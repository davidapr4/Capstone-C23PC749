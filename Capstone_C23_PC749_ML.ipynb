{
  "nbformat": 4,
  "nbformat_minor": 0,
  "metadata": {
    "colab": {
      "provenance": [],
      "mount_file_id": "1ETbnFGc2e_cWkCSr--J39TLAERU3ehDd",
      "authorship_tag": "ABX9TyP6ccs/DY9NPa57wz7SkFBC",
      "include_colab_link": true
    },
    "kernelspec": {
      "name": "python3",
      "display_name": "Python 3"
    },
    "language_info": {
      "name": "python"
    }
  },
  "cells": [
    {
      "cell_type": "markdown",
      "metadata": {
        "id": "view-in-github",
        "colab_type": "text"
      },
      "source": [
        "<a href=\"https://colab.research.google.com/github/davidapr4/Capstone-C23PC749/blob/main/Capstone_C23_PC749_ML.ipynb\" target=\"_parent\"><img src=\"https://colab.research.google.com/assets/colab-badge.svg\" alt=\"Open In Colab\"/></a>"
      ]
    },
    {
      "cell_type": "markdown",
      "source": [
        "##Import Packages"
      ],
      "metadata": {
        "id": "fP6oHlWIMTtj"
      }
    },
    {
      "cell_type": "code",
      "execution_count": 2,
      "metadata": {
        "id": "xYTB7EK1KEio"
      },
      "outputs": [],
      "source": [
        "import numpy as np\n",
        "import numpy.ma as ma\n",
        "import os\n",
        "import pandas as pd\n",
        "import tensorflow as tf\n",
        "from tensorflow import keras\n",
        "from sklearn.preprocessing import StandardScaler, MinMaxScaler\n",
        "from sklearn.model_selection import train_test_split\n",
        "import tabulate\n",
        "# from recsysNN_utils import *\n",
        "pd.set_option(\"display.precision\", 1)"
      ]
    },
    {
      "cell_type": "markdown",
      "source": [
        "###Data Preparation"
      ],
      "metadata": {
        "id": "o8TV6qYkMjEY"
      }
    },
    {
      "cell_type": "code",
      "source": [
        "#Storing each datasets into variable\n",
        "rating = pd.read_csv('/content/drive/My Drive/Colab Notebooks/Capstone/tourism_rating.csv')\n",
        "place = pd.read_csv('/content/drive/My Drive/Colab Notebooks/Capstone/tourism_with_id.csv')\n",
        "user = pd.read_csv('/content/drive/My Drive/Colab Notebooks/Capstone/user.csv')"
      ],
      "metadata": {
        "id": "QjdAK2mugrwo"
      },
      "execution_count": 3,
      "outputs": []
    },
    {
      "cell_type": "markdown",
      "source": [
        "#####Place Data"
      ],
      "metadata": {
        "id": "5ngr02JMAHlY"
      }
    },
    {
      "cell_type": "code",
      "source": [
        "place = place.drop(['Unnamed: 11','Unnamed: 12','Time_Minutes'],axis=1)\n",
        "place.head(20)"
      ],
      "metadata": {
        "id": "qeWs4J6PKdeH",
        "colab": {
          "base_uri": "https://localhost:8080/",
          "height": 1000
        },
        "outputId": "0df1e08a-5b84-4798-e5ee-53efa1b6ec77"
      },
      "execution_count": 4,
      "outputs": [
        {
          "output_type": "execute_result",
          "data": {
            "text/plain": [
              "    Place_Id                         Place_Name  \\\n",
              "0          1                   Monumen Nasional   \n",
              "1          2                           Kota Tua   \n",
              "2          3                      Dunia Fantasi   \n",
              "3          4  Taman Mini Indonesia Indah (TMII)   \n",
              "4          5           Atlantis Water Adventure   \n",
              "5          6            Taman Impian Jaya Ancol   \n",
              "6          7             Kebun Binatang Ragunan   \n",
              "7          8                      Ocean Ecopark   \n",
              "8          9                   Pelabuhan Marina   \n",
              "9         10                       Pulau Tidung   \n",
              "10        11                     Pulau Bidadari   \n",
              "11        12                         Pulau Pari   \n",
              "12        13                      Pulau Pramuka   \n",
              "13        14                      Pulau Pelangi   \n",
              "14        15                         Pasar Seni   \n",
              "15        16                Jembatan Kota Intan   \n",
              "16        17                  Museum Fatahillah   \n",
              "17        18              Museum Bank Indonesia   \n",
              "18        19                           Kidzania   \n",
              "19        20              Museum Taman Prasasti   \n",
              "\n",
              "                                          Description            Category  \\\n",
              "0   Monumen Nasional atau yang populer disingkat d...              Budaya   \n",
              "1   Kota tua di Jakarta, yang juga bernama Kota Tu...              Budaya   \n",
              "2   Dunia Fantasi atau disebut juga Dufan adalah t...       Taman Hiburan   \n",
              "3   Taman Mini Indonesia Indah merupakan suatu kaw...       Taman Hiburan   \n",
              "4   Atlantis Water Adventure atau dikenal dengan A...       Taman Hiburan   \n",
              "5   Taman Impian Jaya Ancol merupakan sebuah objek...       Taman Hiburan   \n",
              "6   Kebun Binatang Ragunan adalah sebuah kebun bin...          Cagar Alam   \n",
              "7   Ocean Ecopark Salah satu zona rekreasi Ancol y...       Taman Hiburan   \n",
              "8   Pelabuhan Marina Ancol berada di kawasan Taman...              Bahari   \n",
              "9   Pulau Tidung adalah salah satu kelurahan di ke...              Bahari   \n",
              "10  Pulau Bidadari merupakan salah satu resor di K...              Bahari   \n",
              "11  Pulau Pari adalah sebuah pulau yang terletak d...              Bahari   \n",
              "12  Pulau Pramuka merupakan salah satu pulau yang ...              Bahari   \n",
              "13  Pulau Pelangi adalah sebuah pulau yang terleta...              Bahari   \n",
              "14  Pasar Seni merupakan Pusat kerajinan dan kesen...  Pusat Perbelanjaan   \n",
              "15  Jembatan Kota Intan adalah jembatan tertua di ...              Budaya   \n",
              "16  Museum Fatahillah memiliki nama resmi Museum S...              Budaya   \n",
              "17  Museum Bank Indonesia adalah sebuah museum di ...              Budaya   \n",
              "18  KidZania adalah sebuah waralaba swasta Meksiko...       Taman Hiburan   \n",
              "19  Museum Taman Prasasti adalah sebuah museum cag...              Budaya   \n",
              "\n",
              "       City   Price  Rating                                       Coordinate  \\\n",
              "0   Jakarta   20000     4.6          {'lat': -6.1753924, 'lng': 106.8271528}   \n",
              "1   Jakarta       0     4.6  {'lat': -6.137644799999999, 'lng': 106.8171245}   \n",
              "2   Jakarta  270000     4.6  {'lat': -6.125312399999999, 'lng': 106.8335377}   \n",
              "3   Jakarta   10000     4.5  {'lat': -6.302445899999999, 'lng': 106.8951559}   \n",
              "4   Jakarta   94000     4.5             {'lat': -6.12419, 'lng': 106.839134}   \n",
              "5   Jakarta   25000     4.5  {'lat': -6.117333200000001, 'lng': 106.8579951}   \n",
              "6   Jakarta    4000     4.5          {'lat': -6.3124593, 'lng': 106.8201865}   \n",
              "7   Jakarta  180000     4.0  {'lat': -6.125801699999999, 'lng': 106.8363249}   \n",
              "8   Jakarta  175000     4.4              {'lat': 1.07888, 'lng': 103.931398}   \n",
              "9   Jakarta  150000     4.5  {'lat': -5.803205300000001, 'lng': 106.5237907}   \n",
              "10  Jakarta    5000     4.6   {'lat': -6.035832999999999, 'lng': 106.746944}   \n",
              "11  Jakarta  150000     4.0          {'lat': -5.9074328, 'lng': 106.5863989}   \n",
              "12  Jakarta    5000     4.2           {'lat': -5.745962, 'lng': 106.6136577}   \n",
              "13  Jakarta  900000     4.8              {'lat': -5.587055, 'lng': 106.5885}   \n",
              "14  Jakarta       0     4.4          {'lat': -6.1766868, 'lng': 106.8417666}   \n",
              "15  Jakarta       0     4.3          {'lat': -6.1314572, 'lng': 106.8106169}   \n",
              "16  Jakarta    5000     4.4  {'lat': -6.136448899999999, 'lng': 106.8130661}   \n",
              "17  Jakarta    2000     4.7            {'lat': -6.137127, 'lng': 106.813005}   \n",
              "18  Jakarta  185000     4.6  {'lat': -6.225073499999999, 'lng': 106.8097144}   \n",
              "19  Jakarta    2000     4.5  {'lat': -6.172224099999998, 'lng': 106.8189695}   \n",
              "\n",
              "    Lat   Long  \n",
              "0  -6.2  106.8  \n",
              "1  -6.1  106.8  \n",
              "2  -6.1  106.8  \n",
              "3  -6.3  106.9  \n",
              "4  -6.1  106.8  \n",
              "5  -6.1  106.9  \n",
              "6  -6.3  106.8  \n",
              "7  -6.1  106.8  \n",
              "8   1.1  103.9  \n",
              "9  -5.8  106.5  \n",
              "10 -6.0  106.7  \n",
              "11 -5.9  106.6  \n",
              "12 -5.7  106.6  \n",
              "13 -5.6  106.6  \n",
              "14 -6.2  106.8  \n",
              "15 -6.1  106.8  \n",
              "16 -6.1  106.8  \n",
              "17 -6.1  106.8  \n",
              "18 -6.2  106.8  \n",
              "19 -6.2  106.8  "
            ],
            "text/html": [
              "\n",
              "  <div id=\"df-1b4c17aa-3384-4427-8a50-a8497d779a94\">\n",
              "    <div class=\"colab-df-container\">\n",
              "      <div>\n",
              "<style scoped>\n",
              "    .dataframe tbody tr th:only-of-type {\n",
              "        vertical-align: middle;\n",
              "    }\n",
              "\n",
              "    .dataframe tbody tr th {\n",
              "        vertical-align: top;\n",
              "    }\n",
              "\n",
              "    .dataframe thead th {\n",
              "        text-align: right;\n",
              "    }\n",
              "</style>\n",
              "<table border=\"1\" class=\"dataframe\">\n",
              "  <thead>\n",
              "    <tr style=\"text-align: right;\">\n",
              "      <th></th>\n",
              "      <th>Place_Id</th>\n",
              "      <th>Place_Name</th>\n",
              "      <th>Description</th>\n",
              "      <th>Category</th>\n",
              "      <th>City</th>\n",
              "      <th>Price</th>\n",
              "      <th>Rating</th>\n",
              "      <th>Coordinate</th>\n",
              "      <th>Lat</th>\n",
              "      <th>Long</th>\n",
              "    </tr>\n",
              "  </thead>\n",
              "  <tbody>\n",
              "    <tr>\n",
              "      <th>0</th>\n",
              "      <td>1</td>\n",
              "      <td>Monumen Nasional</td>\n",
              "      <td>Monumen Nasional atau yang populer disingkat d...</td>\n",
              "      <td>Budaya</td>\n",
              "      <td>Jakarta</td>\n",
              "      <td>20000</td>\n",
              "      <td>4.6</td>\n",
              "      <td>{'lat': -6.1753924, 'lng': 106.8271528}</td>\n",
              "      <td>-6.2</td>\n",
              "      <td>106.8</td>\n",
              "    </tr>\n",
              "    <tr>\n",
              "      <th>1</th>\n",
              "      <td>2</td>\n",
              "      <td>Kota Tua</td>\n",
              "      <td>Kota tua di Jakarta, yang juga bernama Kota Tu...</td>\n",
              "      <td>Budaya</td>\n",
              "      <td>Jakarta</td>\n",
              "      <td>0</td>\n",
              "      <td>4.6</td>\n",
              "      <td>{'lat': -6.137644799999999, 'lng': 106.8171245}</td>\n",
              "      <td>-6.1</td>\n",
              "      <td>106.8</td>\n",
              "    </tr>\n",
              "    <tr>\n",
              "      <th>2</th>\n",
              "      <td>3</td>\n",
              "      <td>Dunia Fantasi</td>\n",
              "      <td>Dunia Fantasi atau disebut juga Dufan adalah t...</td>\n",
              "      <td>Taman Hiburan</td>\n",
              "      <td>Jakarta</td>\n",
              "      <td>270000</td>\n",
              "      <td>4.6</td>\n",
              "      <td>{'lat': -6.125312399999999, 'lng': 106.8335377}</td>\n",
              "      <td>-6.1</td>\n",
              "      <td>106.8</td>\n",
              "    </tr>\n",
              "    <tr>\n",
              "      <th>3</th>\n",
              "      <td>4</td>\n",
              "      <td>Taman Mini Indonesia Indah (TMII)</td>\n",
              "      <td>Taman Mini Indonesia Indah merupakan suatu kaw...</td>\n",
              "      <td>Taman Hiburan</td>\n",
              "      <td>Jakarta</td>\n",
              "      <td>10000</td>\n",
              "      <td>4.5</td>\n",
              "      <td>{'lat': -6.302445899999999, 'lng': 106.8951559}</td>\n",
              "      <td>-6.3</td>\n",
              "      <td>106.9</td>\n",
              "    </tr>\n",
              "    <tr>\n",
              "      <th>4</th>\n",
              "      <td>5</td>\n",
              "      <td>Atlantis Water Adventure</td>\n",
              "      <td>Atlantis Water Adventure atau dikenal dengan A...</td>\n",
              "      <td>Taman Hiburan</td>\n",
              "      <td>Jakarta</td>\n",
              "      <td>94000</td>\n",
              "      <td>4.5</td>\n",
              "      <td>{'lat': -6.12419, 'lng': 106.839134}</td>\n",
              "      <td>-6.1</td>\n",
              "      <td>106.8</td>\n",
              "    </tr>\n",
              "    <tr>\n",
              "      <th>5</th>\n",
              "      <td>6</td>\n",
              "      <td>Taman Impian Jaya Ancol</td>\n",
              "      <td>Taman Impian Jaya Ancol merupakan sebuah objek...</td>\n",
              "      <td>Taman Hiburan</td>\n",
              "      <td>Jakarta</td>\n",
              "      <td>25000</td>\n",
              "      <td>4.5</td>\n",
              "      <td>{'lat': -6.117333200000001, 'lng': 106.8579951}</td>\n",
              "      <td>-6.1</td>\n",
              "      <td>106.9</td>\n",
              "    </tr>\n",
              "    <tr>\n",
              "      <th>6</th>\n",
              "      <td>7</td>\n",
              "      <td>Kebun Binatang Ragunan</td>\n",
              "      <td>Kebun Binatang Ragunan adalah sebuah kebun bin...</td>\n",
              "      <td>Cagar Alam</td>\n",
              "      <td>Jakarta</td>\n",
              "      <td>4000</td>\n",
              "      <td>4.5</td>\n",
              "      <td>{'lat': -6.3124593, 'lng': 106.8201865}</td>\n",
              "      <td>-6.3</td>\n",
              "      <td>106.8</td>\n",
              "    </tr>\n",
              "    <tr>\n",
              "      <th>7</th>\n",
              "      <td>8</td>\n",
              "      <td>Ocean Ecopark</td>\n",
              "      <td>Ocean Ecopark Salah satu zona rekreasi Ancol y...</td>\n",
              "      <td>Taman Hiburan</td>\n",
              "      <td>Jakarta</td>\n",
              "      <td>180000</td>\n",
              "      <td>4.0</td>\n",
              "      <td>{'lat': -6.125801699999999, 'lng': 106.8363249}</td>\n",
              "      <td>-6.1</td>\n",
              "      <td>106.8</td>\n",
              "    </tr>\n",
              "    <tr>\n",
              "      <th>8</th>\n",
              "      <td>9</td>\n",
              "      <td>Pelabuhan Marina</td>\n",
              "      <td>Pelabuhan Marina Ancol berada di kawasan Taman...</td>\n",
              "      <td>Bahari</td>\n",
              "      <td>Jakarta</td>\n",
              "      <td>175000</td>\n",
              "      <td>4.4</td>\n",
              "      <td>{'lat': 1.07888, 'lng': 103.931398}</td>\n",
              "      <td>1.1</td>\n",
              "      <td>103.9</td>\n",
              "    </tr>\n",
              "    <tr>\n",
              "      <th>9</th>\n",
              "      <td>10</td>\n",
              "      <td>Pulau Tidung</td>\n",
              "      <td>Pulau Tidung adalah salah satu kelurahan di ke...</td>\n",
              "      <td>Bahari</td>\n",
              "      <td>Jakarta</td>\n",
              "      <td>150000</td>\n",
              "      <td>4.5</td>\n",
              "      <td>{'lat': -5.803205300000001, 'lng': 106.5237907}</td>\n",
              "      <td>-5.8</td>\n",
              "      <td>106.5</td>\n",
              "    </tr>\n",
              "    <tr>\n",
              "      <th>10</th>\n",
              "      <td>11</td>\n",
              "      <td>Pulau Bidadari</td>\n",
              "      <td>Pulau Bidadari merupakan salah satu resor di K...</td>\n",
              "      <td>Bahari</td>\n",
              "      <td>Jakarta</td>\n",
              "      <td>5000</td>\n",
              "      <td>4.6</td>\n",
              "      <td>{'lat': -6.035832999999999, 'lng': 106.746944}</td>\n",
              "      <td>-6.0</td>\n",
              "      <td>106.7</td>\n",
              "    </tr>\n",
              "    <tr>\n",
              "      <th>11</th>\n",
              "      <td>12</td>\n",
              "      <td>Pulau Pari</td>\n",
              "      <td>Pulau Pari adalah sebuah pulau yang terletak d...</td>\n",
              "      <td>Bahari</td>\n",
              "      <td>Jakarta</td>\n",
              "      <td>150000</td>\n",
              "      <td>4.0</td>\n",
              "      <td>{'lat': -5.9074328, 'lng': 106.5863989}</td>\n",
              "      <td>-5.9</td>\n",
              "      <td>106.6</td>\n",
              "    </tr>\n",
              "    <tr>\n",
              "      <th>12</th>\n",
              "      <td>13</td>\n",
              "      <td>Pulau Pramuka</td>\n",
              "      <td>Pulau Pramuka merupakan salah satu pulau yang ...</td>\n",
              "      <td>Bahari</td>\n",
              "      <td>Jakarta</td>\n",
              "      <td>5000</td>\n",
              "      <td>4.2</td>\n",
              "      <td>{'lat': -5.745962, 'lng': 106.6136577}</td>\n",
              "      <td>-5.7</td>\n",
              "      <td>106.6</td>\n",
              "    </tr>\n",
              "    <tr>\n",
              "      <th>13</th>\n",
              "      <td>14</td>\n",
              "      <td>Pulau Pelangi</td>\n",
              "      <td>Pulau Pelangi adalah sebuah pulau yang terleta...</td>\n",
              "      <td>Bahari</td>\n",
              "      <td>Jakarta</td>\n",
              "      <td>900000</td>\n",
              "      <td>4.8</td>\n",
              "      <td>{'lat': -5.587055, 'lng': 106.5885}</td>\n",
              "      <td>-5.6</td>\n",
              "      <td>106.6</td>\n",
              "    </tr>\n",
              "    <tr>\n",
              "      <th>14</th>\n",
              "      <td>15</td>\n",
              "      <td>Pasar Seni</td>\n",
              "      <td>Pasar Seni merupakan Pusat kerajinan dan kesen...</td>\n",
              "      <td>Pusat Perbelanjaan</td>\n",
              "      <td>Jakarta</td>\n",
              "      <td>0</td>\n",
              "      <td>4.4</td>\n",
              "      <td>{'lat': -6.1766868, 'lng': 106.8417666}</td>\n",
              "      <td>-6.2</td>\n",
              "      <td>106.8</td>\n",
              "    </tr>\n",
              "    <tr>\n",
              "      <th>15</th>\n",
              "      <td>16</td>\n",
              "      <td>Jembatan Kota Intan</td>\n",
              "      <td>Jembatan Kota Intan adalah jembatan tertua di ...</td>\n",
              "      <td>Budaya</td>\n",
              "      <td>Jakarta</td>\n",
              "      <td>0</td>\n",
              "      <td>4.3</td>\n",
              "      <td>{'lat': -6.1314572, 'lng': 106.8106169}</td>\n",
              "      <td>-6.1</td>\n",
              "      <td>106.8</td>\n",
              "    </tr>\n",
              "    <tr>\n",
              "      <th>16</th>\n",
              "      <td>17</td>\n",
              "      <td>Museum Fatahillah</td>\n",
              "      <td>Museum Fatahillah memiliki nama resmi Museum S...</td>\n",
              "      <td>Budaya</td>\n",
              "      <td>Jakarta</td>\n",
              "      <td>5000</td>\n",
              "      <td>4.4</td>\n",
              "      <td>{'lat': -6.136448899999999, 'lng': 106.8130661}</td>\n",
              "      <td>-6.1</td>\n",
              "      <td>106.8</td>\n",
              "    </tr>\n",
              "    <tr>\n",
              "      <th>17</th>\n",
              "      <td>18</td>\n",
              "      <td>Museum Bank Indonesia</td>\n",
              "      <td>Museum Bank Indonesia adalah sebuah museum di ...</td>\n",
              "      <td>Budaya</td>\n",
              "      <td>Jakarta</td>\n",
              "      <td>2000</td>\n",
              "      <td>4.7</td>\n",
              "      <td>{'lat': -6.137127, 'lng': 106.813005}</td>\n",
              "      <td>-6.1</td>\n",
              "      <td>106.8</td>\n",
              "    </tr>\n",
              "    <tr>\n",
              "      <th>18</th>\n",
              "      <td>19</td>\n",
              "      <td>Kidzania</td>\n",
              "      <td>KidZania adalah sebuah waralaba swasta Meksiko...</td>\n",
              "      <td>Taman Hiburan</td>\n",
              "      <td>Jakarta</td>\n",
              "      <td>185000</td>\n",
              "      <td>4.6</td>\n",
              "      <td>{'lat': -6.225073499999999, 'lng': 106.8097144}</td>\n",
              "      <td>-6.2</td>\n",
              "      <td>106.8</td>\n",
              "    </tr>\n",
              "    <tr>\n",
              "      <th>19</th>\n",
              "      <td>20</td>\n",
              "      <td>Museum Taman Prasasti</td>\n",
              "      <td>Museum Taman Prasasti adalah sebuah museum cag...</td>\n",
              "      <td>Budaya</td>\n",
              "      <td>Jakarta</td>\n",
              "      <td>2000</td>\n",
              "      <td>4.5</td>\n",
              "      <td>{'lat': -6.172224099999998, 'lng': 106.8189695}</td>\n",
              "      <td>-6.2</td>\n",
              "      <td>106.8</td>\n",
              "    </tr>\n",
              "  </tbody>\n",
              "</table>\n",
              "</div>\n",
              "      <button class=\"colab-df-convert\" onclick=\"convertToInteractive('df-1b4c17aa-3384-4427-8a50-a8497d779a94')\"\n",
              "              title=\"Convert this dataframe to an interactive table.\"\n",
              "              style=\"display:none;\">\n",
              "        \n",
              "  <svg xmlns=\"http://www.w3.org/2000/svg\" height=\"24px\"viewBox=\"0 0 24 24\"\n",
              "       width=\"24px\">\n",
              "    <path d=\"M0 0h24v24H0V0z\" fill=\"none\"/>\n",
              "    <path d=\"M18.56 5.44l.94 2.06.94-2.06 2.06-.94-2.06-.94-.94-2.06-.94 2.06-2.06.94zm-11 1L8.5 8.5l.94-2.06 2.06-.94-2.06-.94L8.5 2.5l-.94 2.06-2.06.94zm10 10l.94 2.06.94-2.06 2.06-.94-2.06-.94-.94-2.06-.94 2.06-2.06.94z\"/><path d=\"M17.41 7.96l-1.37-1.37c-.4-.4-.92-.59-1.43-.59-.52 0-1.04.2-1.43.59L10.3 9.45l-7.72 7.72c-.78.78-.78 2.05 0 2.83L4 21.41c.39.39.9.59 1.41.59.51 0 1.02-.2 1.41-.59l7.78-7.78 2.81-2.81c.8-.78.8-2.07 0-2.86zM5.41 20L4 18.59l7.72-7.72 1.47 1.35L5.41 20z\"/>\n",
              "  </svg>\n",
              "      </button>\n",
              "      \n",
              "  <style>\n",
              "    .colab-df-container {\n",
              "      display:flex;\n",
              "      flex-wrap:wrap;\n",
              "      gap: 12px;\n",
              "    }\n",
              "\n",
              "    .colab-df-convert {\n",
              "      background-color: #E8F0FE;\n",
              "      border: none;\n",
              "      border-radius: 50%;\n",
              "      cursor: pointer;\n",
              "      display: none;\n",
              "      fill: #1967D2;\n",
              "      height: 32px;\n",
              "      padding: 0 0 0 0;\n",
              "      width: 32px;\n",
              "    }\n",
              "\n",
              "    .colab-df-convert:hover {\n",
              "      background-color: #E2EBFA;\n",
              "      box-shadow: 0px 1px 2px rgba(60, 64, 67, 0.3), 0px 1px 3px 1px rgba(60, 64, 67, 0.15);\n",
              "      fill: #174EA6;\n",
              "    }\n",
              "\n",
              "    [theme=dark] .colab-df-convert {\n",
              "      background-color: #3B4455;\n",
              "      fill: #D2E3FC;\n",
              "    }\n",
              "\n",
              "    [theme=dark] .colab-df-convert:hover {\n",
              "      background-color: #434B5C;\n",
              "      box-shadow: 0px 1px 3px 1px rgba(0, 0, 0, 0.15);\n",
              "      filter: drop-shadow(0px 1px 2px rgba(0, 0, 0, 0.3));\n",
              "      fill: #FFFFFF;\n",
              "    }\n",
              "  </style>\n",
              "\n",
              "      <script>\n",
              "        const buttonEl =\n",
              "          document.querySelector('#df-1b4c17aa-3384-4427-8a50-a8497d779a94 button.colab-df-convert');\n",
              "        buttonEl.style.display =\n",
              "          google.colab.kernel.accessAllowed ? 'block' : 'none';\n",
              "\n",
              "        async function convertToInteractive(key) {\n",
              "          const element = document.querySelector('#df-1b4c17aa-3384-4427-8a50-a8497d779a94');\n",
              "          const dataTable =\n",
              "            await google.colab.kernel.invokeFunction('convertToInteractive',\n",
              "                                                     [key], {});\n",
              "          if (!dataTable) return;\n",
              "\n",
              "          const docLinkHtml = 'Like what you see? Visit the ' +\n",
              "            '<a target=\"_blank\" href=https://colab.research.google.com/notebooks/data_table.ipynb>data table notebook</a>'\n",
              "            + ' to learn more about interactive tables.';\n",
              "          element.innerHTML = '';\n",
              "          dataTable['output_type'] = 'display_data';\n",
              "          await google.colab.output.renderOutput(dataTable, element);\n",
              "          const docLink = document.createElement('div');\n",
              "          docLink.innerHTML = docLinkHtml;\n",
              "          element.appendChild(docLink);\n",
              "        }\n",
              "      </script>\n",
              "    </div>\n",
              "  </div>\n",
              "  "
            ]
          },
          "metadata": {},
          "execution_count": 4
        }
      ]
    },
    {
      "cell_type": "code",
      "source": [
        "place.info()"
      ],
      "metadata": {
        "id": "u-qmtqMPKm6a",
        "colab": {
          "base_uri": "https://localhost:8080/"
        },
        "outputId": "f03dacce-4144-4543-e3f6-82c69a8f80ef"
      },
      "execution_count": 5,
      "outputs": [
        {
          "output_type": "stream",
          "name": "stdout",
          "text": [
            "<class 'pandas.core.frame.DataFrame'>\n",
            "RangeIndex: 437 entries, 0 to 436\n",
            "Data columns (total 10 columns):\n",
            " #   Column       Non-Null Count  Dtype  \n",
            "---  ------       --------------  -----  \n",
            " 0   Place_Id     437 non-null    int64  \n",
            " 1   Place_Name   437 non-null    object \n",
            " 2   Description  437 non-null    object \n",
            " 3   Category     437 non-null    object \n",
            " 4   City         437 non-null    object \n",
            " 5   Price        437 non-null    int64  \n",
            " 6   Rating       437 non-null    float64\n",
            " 7   Coordinate   437 non-null    object \n",
            " 8   Lat          437 non-null    float64\n",
            " 9   Long         437 non-null    float64\n",
            "dtypes: float64(3), int64(2), object(5)\n",
            "memory usage: 34.3+ KB\n"
          ]
        }
      ]
    },
    {
      "cell_type": "markdown",
      "source": [
        "#####User Data"
      ],
      "metadata": {
        "id": "HbPNGWbtAWg4"
      }
    },
    {
      "cell_type": "code",
      "source": [
        "user.head()"
      ],
      "metadata": {
        "colab": {
          "base_uri": "https://localhost:8080/",
          "height": 0
        },
        "id": "_lXBHCEVW2oU",
        "outputId": "92e37e4c-9e06-479d-d915-ab679f0f4aac"
      },
      "execution_count": 6,
      "outputs": [
        {
          "output_type": "execute_result",
          "data": {
            "text/plain": [
              "   User_Id                   Location  Age\n",
              "0        1      Semarang, Jawa Tengah   20\n",
              "1        2         Bekasi, Jawa Barat   21\n",
              "2        3        Cirebon, Jawa Barat   23\n",
              "3        4         Bekasi, Jawa Barat   21\n",
              "4        5  Lampung, Sumatera Selatan   20"
            ],
            "text/html": [
              "\n",
              "  <div id=\"df-bf578e1a-fe3b-4bf4-a2e5-4cfda51e1d8b\">\n",
              "    <div class=\"colab-df-container\">\n",
              "      <div>\n",
              "<style scoped>\n",
              "    .dataframe tbody tr th:only-of-type {\n",
              "        vertical-align: middle;\n",
              "    }\n",
              "\n",
              "    .dataframe tbody tr th {\n",
              "        vertical-align: top;\n",
              "    }\n",
              "\n",
              "    .dataframe thead th {\n",
              "        text-align: right;\n",
              "    }\n",
              "</style>\n",
              "<table border=\"1\" class=\"dataframe\">\n",
              "  <thead>\n",
              "    <tr style=\"text-align: right;\">\n",
              "      <th></th>\n",
              "      <th>User_Id</th>\n",
              "      <th>Location</th>\n",
              "      <th>Age</th>\n",
              "    </tr>\n",
              "  </thead>\n",
              "  <tbody>\n",
              "    <tr>\n",
              "      <th>0</th>\n",
              "      <td>1</td>\n",
              "      <td>Semarang, Jawa Tengah</td>\n",
              "      <td>20</td>\n",
              "    </tr>\n",
              "    <tr>\n",
              "      <th>1</th>\n",
              "      <td>2</td>\n",
              "      <td>Bekasi, Jawa Barat</td>\n",
              "      <td>21</td>\n",
              "    </tr>\n",
              "    <tr>\n",
              "      <th>2</th>\n",
              "      <td>3</td>\n",
              "      <td>Cirebon, Jawa Barat</td>\n",
              "      <td>23</td>\n",
              "    </tr>\n",
              "    <tr>\n",
              "      <th>3</th>\n",
              "      <td>4</td>\n",
              "      <td>Bekasi, Jawa Barat</td>\n",
              "      <td>21</td>\n",
              "    </tr>\n",
              "    <tr>\n",
              "      <th>4</th>\n",
              "      <td>5</td>\n",
              "      <td>Lampung, Sumatera Selatan</td>\n",
              "      <td>20</td>\n",
              "    </tr>\n",
              "  </tbody>\n",
              "</table>\n",
              "</div>\n",
              "      <button class=\"colab-df-convert\" onclick=\"convertToInteractive('df-bf578e1a-fe3b-4bf4-a2e5-4cfda51e1d8b')\"\n",
              "              title=\"Convert this dataframe to an interactive table.\"\n",
              "              style=\"display:none;\">\n",
              "        \n",
              "  <svg xmlns=\"http://www.w3.org/2000/svg\" height=\"24px\"viewBox=\"0 0 24 24\"\n",
              "       width=\"24px\">\n",
              "    <path d=\"M0 0h24v24H0V0z\" fill=\"none\"/>\n",
              "    <path d=\"M18.56 5.44l.94 2.06.94-2.06 2.06-.94-2.06-.94-.94-2.06-.94 2.06-2.06.94zm-11 1L8.5 8.5l.94-2.06 2.06-.94-2.06-.94L8.5 2.5l-.94 2.06-2.06.94zm10 10l.94 2.06.94-2.06 2.06-.94-2.06-.94-.94-2.06-.94 2.06-2.06.94z\"/><path d=\"M17.41 7.96l-1.37-1.37c-.4-.4-.92-.59-1.43-.59-.52 0-1.04.2-1.43.59L10.3 9.45l-7.72 7.72c-.78.78-.78 2.05 0 2.83L4 21.41c.39.39.9.59 1.41.59.51 0 1.02-.2 1.41-.59l7.78-7.78 2.81-2.81c.8-.78.8-2.07 0-2.86zM5.41 20L4 18.59l7.72-7.72 1.47 1.35L5.41 20z\"/>\n",
              "  </svg>\n",
              "      </button>\n",
              "      \n",
              "  <style>\n",
              "    .colab-df-container {\n",
              "      display:flex;\n",
              "      flex-wrap:wrap;\n",
              "      gap: 12px;\n",
              "    }\n",
              "\n",
              "    .colab-df-convert {\n",
              "      background-color: #E8F0FE;\n",
              "      border: none;\n",
              "      border-radius: 50%;\n",
              "      cursor: pointer;\n",
              "      display: none;\n",
              "      fill: #1967D2;\n",
              "      height: 32px;\n",
              "      padding: 0 0 0 0;\n",
              "      width: 32px;\n",
              "    }\n",
              "\n",
              "    .colab-df-convert:hover {\n",
              "      background-color: #E2EBFA;\n",
              "      box-shadow: 0px 1px 2px rgba(60, 64, 67, 0.3), 0px 1px 3px 1px rgba(60, 64, 67, 0.15);\n",
              "      fill: #174EA6;\n",
              "    }\n",
              "\n",
              "    [theme=dark] .colab-df-convert {\n",
              "      background-color: #3B4455;\n",
              "      fill: #D2E3FC;\n",
              "    }\n",
              "\n",
              "    [theme=dark] .colab-df-convert:hover {\n",
              "      background-color: #434B5C;\n",
              "      box-shadow: 0px 1px 3px 1px rgba(0, 0, 0, 0.15);\n",
              "      filter: drop-shadow(0px 1px 2px rgba(0, 0, 0, 0.3));\n",
              "      fill: #FFFFFF;\n",
              "    }\n",
              "  </style>\n",
              "\n",
              "      <script>\n",
              "        const buttonEl =\n",
              "          document.querySelector('#df-bf578e1a-fe3b-4bf4-a2e5-4cfda51e1d8b button.colab-df-convert');\n",
              "        buttonEl.style.display =\n",
              "          google.colab.kernel.accessAllowed ? 'block' : 'none';\n",
              "\n",
              "        async function convertToInteractive(key) {\n",
              "          const element = document.querySelector('#df-bf578e1a-fe3b-4bf4-a2e5-4cfda51e1d8b');\n",
              "          const dataTable =\n",
              "            await google.colab.kernel.invokeFunction('convertToInteractive',\n",
              "                                                     [key], {});\n",
              "          if (!dataTable) return;\n",
              "\n",
              "          const docLinkHtml = 'Like what you see? Visit the ' +\n",
              "            '<a target=\"_blank\" href=https://colab.research.google.com/notebooks/data_table.ipynb>data table notebook</a>'\n",
              "            + ' to learn more about interactive tables.';\n",
              "          element.innerHTML = '';\n",
              "          dataTable['output_type'] = 'display_data';\n",
              "          await google.colab.output.renderOutput(dataTable, element);\n",
              "          const docLink = document.createElement('div');\n",
              "          docLink.innerHTML = docLinkHtml;\n",
              "          element.appendChild(docLink);\n",
              "        }\n",
              "      </script>\n",
              "    </div>\n",
              "  </div>\n",
              "  "
            ]
          },
          "metadata": {},
          "execution_count": 6
        }
      ]
    },
    {
      "cell_type": "code",
      "source": [
        "user.info()\n",
        "user.shape"
      ],
      "metadata": {
        "colab": {
          "base_uri": "https://localhost:8080/"
        },
        "id": "3AQ5Ms2qW4Zo",
        "outputId": "36447295-d80c-4411-932a-a1ca5ac823b0"
      },
      "execution_count": 7,
      "outputs": [
        {
          "output_type": "stream",
          "name": "stdout",
          "text": [
            "<class 'pandas.core.frame.DataFrame'>\n",
            "RangeIndex: 300 entries, 0 to 299\n",
            "Data columns (total 3 columns):\n",
            " #   Column    Non-Null Count  Dtype \n",
            "---  ------    --------------  ----- \n",
            " 0   User_Id   300 non-null    int64 \n",
            " 1   Location  300 non-null    object\n",
            " 2   Age       300 non-null    int64 \n",
            "dtypes: int64(2), object(1)\n",
            "memory usage: 7.2+ KB\n"
          ]
        },
        {
          "output_type": "execute_result",
          "data": {
            "text/plain": [
              "(300, 3)"
            ]
          },
          "metadata": {},
          "execution_count": 7
        }
      ]
    },
    {
      "cell_type": "markdown",
      "source": [
        "#####Training Data"
      ],
      "metadata": {
        "id": "LFpo_PQ-Anzm"
      }
    },
    {
      "cell_type": "code",
      "source": [
        "place_features = place[['Category', 'City', 'Price', 'Rating']]\n",
        "# Perform one-hot encoding for categorical columns\n",
        "place_categorical_cols = ['Category', 'City']  # List of categorical column names\n",
        "place_features_encoded = pd.get_dummies(place_features, columns=place_categorical_cols)\n",
        "place_train, place_test = train_test_split(place_features_encoded, train_size=0.80, shuffle=True, random_state=1)\n",
        "\n",
        "\n",
        "user_features = user[['Location', 'Age']]\n",
        "# Perform one-hot encoding for categorical columns\n",
        "user_categorical_cols = ['Location']  # List of categorical column names\n",
        "user_features_encoded = pd.get_dummies(user_features, columns=user_categorical_cols)\n",
        "user_train, user_test = train_test_split(user_features_encoded, train_size=0.80, shuffle=True, random_state=1)\n",
        "\n",
        "\n",
        "# Extract ratings as target variable\n",
        "y_train = place_train['Rating'].values.reshape(-1, 1)\n",
        "y_train, y_test = train_test_split(y_train, train_size=0.80, shuffle=True, random_state=1)"
      ],
      "metadata": {
        "id": "MdgbYux2-O8v"
      },
      "execution_count": 41,
      "outputs": []
    },
    {
      "cell_type": "markdown",
      "source": [
        " The categorical columns in the place_train('category' and 'city') and user_train('location') dataset are encoded using one-hot encoding with pd.get_dummies(). This creates new columns for each unique value in the categorical columns, representing them as binary features. After encoding, the resulting dataset can be passed to the StandardScaler for feature scaling."
      ],
      "metadata": {
        "id": "RUovkbaNDfAr"
      }
    },
    {
      "cell_type": "code",
      "source": [
        "num_user_features = user_train.shape[1]\n",
        "num_place_features = place_train.shape[1]\n",
        "u_s = 0  # Assuming all columns in the user_train dataset are used for training\n",
        "i_s = 0  # Assuming all columns in the place_train dataset are used for training\n",
        "print(f\"num_user_features: {num_user_features}\")\n",
        "print(f\"num_place_features: {num_place_features}\")\n",
        "print(f\"u_s: {u_s}\")\n",
        "print(f\"i_s: {i_s}\")"
      ],
      "metadata": {
        "colab": {
          "base_uri": "https://localhost:8080/"
        },
        "id": "uLWH4Wt0GIue",
        "outputId": "d8458469-a500-423e-d9a5-230bcdcfce19"
      },
      "execution_count": 42,
      "outputs": [
        {
          "output_type": "stream",
          "name": "stdout",
          "text": [
            "num_user_features: 29\n",
            "num_place_features: 13\n",
            "u_s: 0\n",
            "i_s: 0\n"
          ]
        }
      ]
    },
    {
      "cell_type": "code",
      "source": [
        "# Perform feature scaling\n",
        "scaler = StandardScaler()\n",
        "place_train = scaler.fit_transform(place_train)\n",
        "user_train = scaler.fit_transform(user_train)\n",
        "y_train = scaler.fit_transform(y_train)\n",
        "\n",
        "# Print the shapes of the resulting datasets\n",
        "print(f\"place_train shape: {place_train.shape}\")\n",
        "print(f\"user_train shape: {user_train.shape}\")\n",
        "print(f\"y_train shape: {y_train.shape}\")"
      ],
      "metadata": {
        "colab": {
          "base_uri": "https://localhost:8080/"
        },
        "id": "MbkfIP_nW9Yu",
        "outputId": "5331b1ba-5eb6-4f46-f996-cc99fafad09b"
      },
      "execution_count": 43,
      "outputs": [
        {
          "output_type": "stream",
          "name": "stdout",
          "text": [
            "place_train shape: (349, 13)\n",
            "user_train shape: (240, 29)\n",
            "y_train shape: (279, 1)\n"
          ]
        }
      ]
    },
    {
      "cell_type": "code",
      "source": [
        "print(f\"place/item training data shape: {place.shape}\")\n",
        "print(f\"place/item test data shape: {place_test.shape}\")"
      ],
      "metadata": {
        "colab": {
          "base_uri": "https://localhost:8080/"
        },
        "id": "6qfKtvnEicO3",
        "outputId": "cb57a327-be63-484d-fe22-b0c73921d2f4"
      },
      "execution_count": 44,
      "outputs": [
        {
          "output_type": "stream",
          "name": "stdout",
          "text": [
            "place/item training data shape: (437, 10)\n",
            "place/item test data shape: (88, 13)\n"
          ]
        }
      ]
    },
    {
      "cell_type": "code",
      "source": [
        "num_outputs = 32\n",
        "tf.random.set_seed(1)\n",
        "user_NN = tf.keras.models.Sequential([\n",
        "    ### START CODE HERE ###     \n",
        "  tf.keras.layers.Dense(256, activation='relu'),\n",
        "  tf.keras.layers.Dense(128, activation='relu'),\n",
        "  tf.keras.layers.Dense(num_outputs)\n",
        "    ### END CODE HERE ###  \n",
        "])\n",
        "\n",
        "item_NN = tf.keras.models.Sequential([\n",
        "    ### START CODE HERE ###     \n",
        "  tf.keras.layers.Dense(256, activation='relu'),\n",
        "  tf.keras.layers.Dense(128, activation='relu'),\n",
        "  tf.keras.layers.Dense(num_outputs)\n",
        "    ### END CODE HERE ###  \n",
        "])\n",
        "\n",
        "# create the user input and point to the base network\n",
        "input_user = tf.keras.layers.Input(shape=(num_user_features))\n",
        "vu = user_NN(input_user)\n",
        "vu = tf.linalg.l2_normalize(vu, axis=1)\n",
        "\n",
        "# create the item input and point to the base network\n",
        "input_item = tf.keras.layers.Input(shape=(num_place_features))\n",
        "vm = item_NN(input_item)\n",
        "vm = tf.linalg.l2_normalize(vm, axis=1)\n",
        "\n",
        "# compute the dot product of the two vectors vu and vm\n",
        "output = tf.keras.layers.Dot(axes=1)([vu, vm])\n",
        "\n",
        "# specify the inputs and output of the model\n",
        "model = tf.keras.Model([input_user, input_item], output)\n",
        "\n",
        "model.summary()"
      ],
      "metadata": {
        "colab": {
          "base_uri": "https://localhost:8080/"
        },
        "id": "4DHw4nHij5TD",
        "outputId": "14dc5c88-e3e4-4f96-98c4-6b57c87baf5b"
      },
      "execution_count": 45,
      "outputs": [
        {
          "output_type": "stream",
          "name": "stdout",
          "text": [
            "Model: \"model_2\"\n",
            "__________________________________________________________________________________________________\n",
            " Layer (type)                   Output Shape         Param #     Connected to                     \n",
            "==================================================================================================\n",
            " input_7 (InputLayer)           [(None, 29)]         0           []                               \n",
            "                                                                                                  \n",
            " input_8 (InputLayer)           [(None, 13)]         0           []                               \n",
            "                                                                                                  \n",
            " sequential_6 (Sequential)      (None, 32)           44704       ['input_7[0][0]']                \n",
            "                                                                                                  \n",
            " sequential_7 (Sequential)      (None, 32)           40608       ['input_8[0][0]']                \n",
            "                                                                                                  \n",
            " tf.math.l2_normalize_6 (TFOpLa  (None, 32)          0           ['sequential_6[0][0]']           \n",
            " mbda)                                                                                            \n",
            "                                                                                                  \n",
            " tf.math.l2_normalize_7 (TFOpLa  (None, 32)          0           ['sequential_7[0][0]']           \n",
            " mbda)                                                                                            \n",
            "                                                                                                  \n",
            " dot_3 (Dot)                    (None, 1)            0           ['tf.math.l2_normalize_6[0][0]', \n",
            "                                                                  'tf.math.l2_normalize_7[0][0]'] \n",
            "                                                                                                  \n",
            "==================================================================================================\n",
            "Total params: 85,312\n",
            "Trainable params: 85,312\n",
            "Non-trainable params: 0\n",
            "__________________________________________________________________________________________________\n"
          ]
        }
      ]
    },
    {
      "cell_type": "code",
      "source": [
        "tf.random.set_seed(1)\n",
        "cost_fn = tf.keras.losses.MeanSquaredError()\n",
        "opt = keras.optimizers.Adam(learning_rate=0.01)\n",
        "model.compile(optimizer=opt,\n",
        "              loss=cost_fn)"
      ],
      "metadata": {
        "id": "78Aa26ymHG1Q"
      },
      "execution_count": 46,
      "outputs": []
    },
    {
      "cell_type": "code",
      "source": [
        "print(place_train.shape)"
      ],
      "metadata": {
        "colab": {
          "base_uri": "https://localhost:8080/"
        },
        "id": "yV5SueZWjtHX",
        "outputId": "be083eba-5685-49aa-fb58-d760c25b5dc7"
      },
      "execution_count": 58,
      "outputs": [
        {
          "output_type": "stream",
          "name": "stdout",
          "text": [
            "(240, 13)\n"
          ]
        }
      ]
    },
    {
      "cell_type": "code",
      "source": [
        "model.fit([user_train, place_train], y_train, epochs=30)"
      ],
      "metadata": {
        "colab": {
          "base_uri": "https://localhost:8080/"
        },
        "id": "0U2BfW_hHStv",
        "outputId": "d4c0dff5-9f17-4111-baf2-57127fb623ca"
      },
      "execution_count": 59,
      "outputs": [
        {
          "output_type": "stream",
          "name": "stdout",
          "text": [
            "Epoch 1/30\n",
            "8/8 [==============================] - 0s 15ms/step - loss: 0.1618\n",
            "Epoch 2/30\n",
            "8/8 [==============================] - 0s 8ms/step - loss: 0.1616\n",
            "Epoch 3/30\n",
            "8/8 [==============================] - 0s 6ms/step - loss: 0.1611\n",
            "Epoch 4/30\n",
            "8/8 [==============================] - 0s 5ms/step - loss: 0.1614\n",
            "Epoch 5/30\n",
            "8/8 [==============================] - 0s 6ms/step - loss: 0.1614\n",
            "Epoch 6/30\n",
            "8/8 [==============================] - 0s 4ms/step - loss: 0.1618\n",
            "Epoch 7/30\n",
            "8/8 [==============================] - 0s 5ms/step - loss: 0.1618\n",
            "Epoch 8/30\n",
            "8/8 [==============================] - 0s 5ms/step - loss: 0.1619\n",
            "Epoch 9/30\n",
            "8/8 [==============================] - 0s 5ms/step - loss: 0.1619\n",
            "Epoch 10/30\n",
            "8/8 [==============================] - 0s 5ms/step - loss: 0.1624\n",
            "Epoch 11/30\n",
            "8/8 [==============================] - 0s 5ms/step - loss: 0.1622\n",
            "Epoch 12/30\n",
            "8/8 [==============================] - 0s 9ms/step - loss: 0.1625\n",
            "Epoch 13/30\n",
            "8/8 [==============================] - 0s 6ms/step - loss: 0.1618\n",
            "Epoch 14/30\n",
            "8/8 [==============================] - 0s 8ms/step - loss: 0.1613\n",
            "Epoch 15/30\n",
            "8/8 [==============================] - 0s 5ms/step - loss: 0.1613\n",
            "Epoch 16/30\n",
            "8/8 [==============================] - 0s 6ms/step - loss: 0.1612\n",
            "Epoch 17/30\n",
            "8/8 [==============================] - 0s 5ms/step - loss: 0.1611\n",
            "Epoch 18/30\n",
            "8/8 [==============================] - 0s 5ms/step - loss: 0.1612\n",
            "Epoch 19/30\n",
            "8/8 [==============================] - 0s 5ms/step - loss: 0.1614\n",
            "Epoch 20/30\n",
            "8/8 [==============================] - 0s 5ms/step - loss: 0.1619\n",
            "Epoch 21/30\n",
            "8/8 [==============================] - 0s 4ms/step - loss: 0.1621\n",
            "Epoch 22/30\n",
            "8/8 [==============================] - 0s 5ms/step - loss: 0.1618\n",
            "Epoch 23/30\n",
            "8/8 [==============================] - 0s 7ms/step - loss: 0.1620\n",
            "Epoch 24/30\n",
            "8/8 [==============================] - 0s 3ms/step - loss: 0.1619\n",
            "Epoch 25/30\n",
            "8/8 [==============================] - 0s 5ms/step - loss: 0.1616\n",
            "Epoch 26/30\n",
            "8/8 [==============================] - 0s 4ms/step - loss: 0.1618\n",
            "Epoch 27/30\n",
            "8/8 [==============================] - 0s 4ms/step - loss: 0.1618\n",
            "Epoch 28/30\n",
            "8/8 [==============================] - 0s 4ms/step - loss: 0.1615\n",
            "Epoch 29/30\n",
            "8/8 [==============================] - 0s 3ms/step - loss: 0.1611\n",
            "Epoch 30/30\n",
            "8/8 [==============================] - 0s 4ms/step - loss: 0.1611\n"
          ]
        },
        {
          "output_type": "execute_result",
          "data": {
            "text/plain": [
              "<keras.callbacks.History at 0x7f6e16c79810>"
            ]
          },
          "metadata": {},
          "execution_count": 59
        }
      ]
    },
    {
      "cell_type": "code",
      "source": [
        "tf.random.set_seed(1)\n",
        "model.evaluate([user_test, place_test], y_test)"
      ],
      "metadata": {
        "colab": {
          "base_uri": "https://localhost:8080/"
        },
        "id": "8ZL_CPHQOVfX",
        "outputId": "bc17b950-9f63-465f-b889-a5c0511d29b9"
      },
      "execution_count": 61,
      "outputs": [
        {
          "output_type": "stream",
          "name": "stdout",
          "text": [
            "2/2 [==============================] - 0s 9ms/step - loss: 20.4490\n"
          ]
        },
        {
          "output_type": "execute_result",
          "data": {
            "text/plain": [
              "20.448993682861328"
            ]
          },
          "metadata": {},
          "execution_count": 61
        }
      ]
    },
    {
      "cell_type": "code",
      "source": [],
      "metadata": {
        "id": "FKnad40Hw1pe"
      },
      "execution_count": null,
      "outputs": []
    }
  ]
}